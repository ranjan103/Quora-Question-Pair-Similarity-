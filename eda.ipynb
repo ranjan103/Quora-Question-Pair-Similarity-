{
 "cells": [
  {
   "cell_type": "code",
   "execution_count": 1,
   "metadata": {},
   "outputs": [
    {
     "data": {
      "text/html": [
       "        <script type=\"text/javascript\">\n",
       "        window.PlotlyConfig = {MathJaxConfig: 'local'};\n",
       "        if (window.MathJax) {MathJax.Hub.Config({SVG: {font: \"STIX-Web\"}});}\n",
       "        if (typeof require !== 'undefined') {\n",
       "        require.undef(\"plotly\");\n",
       "        requirejs.config({\n",
       "            paths: {\n",
       "                'plotly': ['https://cdn.plot.ly/plotly-latest.min']\n",
       "            }\n",
       "        });\n",
       "        require(['plotly'], function(Plotly) {\n",
       "            window._Plotly = Plotly;\n",
       "        });\n",
       "        }\n",
       "        </script>\n",
       "        "
      ]
     },
     "metadata": {},
     "output_type": "display_data"
    }
   ],
   "source": [
    "import numpy as np\n",
    "import pandas as pd\n",
    "import seaborn as sns\n",
    "import matplotlib.pyplot as plt\n",
    "from subprocess import check_output\n",
    "%matplotlib inline\n",
    "import plotly.offline as py\n",
    "py.init_notebook_mode(connected=True)\n",
    "import plotly.graph_objs as go\n",
    "import plotly.tools as tls\n",
    "import os\n",
    "import gc\n",
    "\n",
    "import re\n",
    "from nltk.corpus import stopwords\n",
    "from nltk.stem import PorterStemmer\n",
    "from bs4 import BeautifulSoup"
   ]
  },
  {
   "cell_type": "code",
   "execution_count": 2,
   "metadata": {},
   "outputs": [
    {
     "data": {
      "text/plain": [
       "(404290, 6)"
      ]
     },
     "execution_count": 2,
     "metadata": {},
     "output_type": "execute_result"
    }
   ],
   "source": [
    "df=pd.read_csv('./train.csv')\n",
    "df.shape"
   ]
  },
  {
   "cell_type": "code",
   "execution_count": 3,
   "metadata": {},
   "outputs": [
    {
     "data": {
      "text/html": [
       "<div>\n",
       "<style scoped>\n",
       "    .dataframe tbody tr th:only-of-type {\n",
       "        vertical-align: middle;\n",
       "    }\n",
       "\n",
       "    .dataframe tbody tr th {\n",
       "        vertical-align: top;\n",
       "    }\n",
       "\n",
       "    .dataframe thead th {\n",
       "        text-align: right;\n",
       "    }\n",
       "</style>\n",
       "<table border=\"1\" class=\"dataframe\">\n",
       "  <thead>\n",
       "    <tr style=\"text-align: right;\">\n",
       "      <th></th>\n",
       "      <th>id</th>\n",
       "      <th>qid1</th>\n",
       "      <th>qid2</th>\n",
       "      <th>question1</th>\n",
       "      <th>question2</th>\n",
       "      <th>is_duplicate</th>\n",
       "    </tr>\n",
       "  </thead>\n",
       "  <tbody>\n",
       "    <tr>\n",
       "      <th>0</th>\n",
       "      <td>0</td>\n",
       "      <td>1</td>\n",
       "      <td>2</td>\n",
       "      <td>What is the step by step guide to invest in sh...</td>\n",
       "      <td>What is the step by step guide to invest in sh...</td>\n",
       "      <td>0</td>\n",
       "    </tr>\n",
       "    <tr>\n",
       "      <th>1</th>\n",
       "      <td>1</td>\n",
       "      <td>3</td>\n",
       "      <td>4</td>\n",
       "      <td>What is the story of Kohinoor (Koh-i-Noor) Dia...</td>\n",
       "      <td>What would happen if the Indian government sto...</td>\n",
       "      <td>0</td>\n",
       "    </tr>\n",
       "    <tr>\n",
       "      <th>2</th>\n",
       "      <td>2</td>\n",
       "      <td>5</td>\n",
       "      <td>6</td>\n",
       "      <td>How can I increase the speed of my internet co...</td>\n",
       "      <td>How can Internet speed be increased by hacking...</td>\n",
       "      <td>0</td>\n",
       "    </tr>\n",
       "    <tr>\n",
       "      <th>3</th>\n",
       "      <td>3</td>\n",
       "      <td>7</td>\n",
       "      <td>8</td>\n",
       "      <td>Why am I mentally very lonely? How can I solve...</td>\n",
       "      <td>Find the remainder when [math]23^{24}[/math] i...</td>\n",
       "      <td>0</td>\n",
       "    </tr>\n",
       "    <tr>\n",
       "      <th>4</th>\n",
       "      <td>4</td>\n",
       "      <td>9</td>\n",
       "      <td>10</td>\n",
       "      <td>Which one dissolve in water quikly sugar, salt...</td>\n",
       "      <td>Which fish would survive in salt water?</td>\n",
       "      <td>0</td>\n",
       "    </tr>\n",
       "  </tbody>\n",
       "</table>\n",
       "</div>"
      ],
      "text/plain": [
       "   id  qid1  qid2                                          question1  \\\n",
       "0   0     1     2  What is the step by step guide to invest in sh...   \n",
       "1   1     3     4  What is the story of Kohinoor (Koh-i-Noor) Dia...   \n",
       "2   2     5     6  How can I increase the speed of my internet co...   \n",
       "3   3     7     8  Why am I mentally very lonely? How can I solve...   \n",
       "4   4     9    10  Which one dissolve in water quikly sugar, salt...   \n",
       "\n",
       "                                           question2  is_duplicate  \n",
       "0  What is the step by step guide to invest in sh...             0  \n",
       "1  What would happen if the Indian government sto...             0  \n",
       "2  How can Internet speed be increased by hacking...             0  \n",
       "3  Find the remainder when [math]23^{24}[/math] i...             0  \n",
       "4            Which fish would survive in salt water?             0  "
      ]
     },
     "execution_count": 3,
     "metadata": {},
     "output_type": "execute_result"
    }
   ],
   "source": [
    "df.head()"
   ]
  },
  {
   "cell_type": "code",
   "execution_count": 4,
   "metadata": {},
   "outputs": [
    {
     "data": {
      "text/plain": [
       "Index(['id', 'qid1', 'qid2', 'question1', 'question2', 'is_duplicate'], dtype='object')"
      ]
     },
     "execution_count": 4,
     "metadata": {},
     "output_type": "execute_result"
    }
   ],
   "source": [
    "df.columns"
   ]
  },
  {
   "cell_type": "code",
   "execution_count": 9,
   "metadata": {},
   "outputs": [
    {
     "name": "stdout",
     "output_type": "stream",
     "text": [
      "<class 'pandas.core.frame.DataFrame'>\n",
      "RangeIndex: 404290 entries, 0 to 404289\n",
      "Data columns (total 6 columns):\n",
      "id              404290 non-null int64\n",
      "qid1            404290 non-null int64\n",
      "qid2            404290 non-null int64\n",
      "question1       404289 non-null object\n",
      "question2       404288 non-null object\n",
      "is_duplicate    404290 non-null int64\n",
      "dtypes: int64(4), object(2)\n",
      "memory usage: 18.5+ MB\n"
     ]
    }
   ],
   "source": [
    "df.info()"
   ]
  },
  {
   "cell_type": "code",
   "execution_count": 17,
   "metadata": {},
   "outputs": [
    {
     "data": {
      "text/plain": [
       "is_duplicate\n",
       "0    255027\n",
       "1    149263\n",
       "Name: id, dtype: int64"
      ]
     },
     "execution_count": 17,
     "metadata": {},
     "output_type": "execute_result"
    }
   ],
   "source": [
    "df.groupby(\"is_duplicate\")[\"id\"].count()"
   ]
  },
  {
   "cell_type": "code",
   "execution_count": 18,
   "metadata": {},
   "outputs": [
    {
     "name": "stdout",
     "output_type": "stream",
     "text": [
      "Percentage of dublicated questions is %d  0.369197853026293\n"
     ]
    }
   ],
   "source": [
    "percentage_1=149263/(149263+255027)\n",
    "percentage_0=255027/(149263+255027)\n",
    "print(\"Percentage of dublicated questions is %d \",percentage_1)"
   ]
  },
  {
   "cell_type": "code",
   "execution_count": 20,
   "metadata": {},
   "outputs": [
    {
     "data": {
      "image/png": "[encoded data removed]",
      "text/plain": [
       "<Figure size 576x396 with 1 Axes>"
      ]
     },
     "metadata": {},
     "output_type": "display_data"
    }
   ],
   "source": [
    "import seaborn as sns\n",
    "plt.style.use(\"seaborn\")\n",
    "df.groupby(\"is_duplicate\")['id'].count().plot.bar()\n",
    "plt.show()"
   ]
  },
  {
   "cell_type": "raw",
   "metadata": {},
   "source": [
    "# Number of unique questions"
   ]
  },
  {
   "cell_type": "code",
   "execution_count": 28,
   "metadata": {},
   "outputs": [
    {
     "name": "stdout",
     "output_type": "stream",
     "text": [
      "0              1\n",
      "1              3\n",
      "2              5\n",
      "3              7\n",
      "4              9\n",
      "5             11\n",
      "6             13\n",
      "7             15\n",
      "8             17\n",
      "9             19\n",
      "10            21\n",
      "11            23\n",
      "12            25\n",
      "13            27\n",
      "14            29\n",
      "15            31\n",
      "16            33\n",
      "17            35\n",
      "18            37\n",
      "19            39\n",
      "20            41\n",
      "21            43\n",
      "22            45\n",
      "23            47\n",
      "24            49\n",
      "25            51\n",
      "26            53\n",
      "27            55\n",
      "28            57\n",
      "29            59\n",
      "           ...  \n",
      "808550       691\n",
      "808551    124172\n",
      "808552    466328\n",
      "808553    537906\n",
      "808554    537908\n",
      "808555     16064\n",
      "808556    146284\n",
      "808557    290649\n",
      "808558    537910\n",
      "808559    349794\n",
      "808560     35364\n",
      "808561    537914\n",
      "808562     14005\n",
      "808563    537916\n",
      "808564     87385\n",
      "808565    537917\n",
      "808566    308365\n",
      "808567    537918\n",
      "808568    169786\n",
      "808569    537921\n",
      "808570    537923\n",
      "808571     81495\n",
      "808572     16773\n",
      "808573    537925\n",
      "808574    537927\n",
      "808575    379845\n",
      "808576    155606\n",
      "808577    537929\n",
      "808578    537931\n",
      "808579    537933\n",
      "Length: 808580, dtype: int64\n"
     ]
    }
   ],
   "source": [
    "qids=pd.Series(df['qid1'].tolist()+df['qid2'].tolist())\n",
    "print(qids)"
   ]
  },
  {
   "cell_type": "code",
   "execution_count": 24,
   "metadata": {},
   "outputs": [
    {
     "name": "stdout",
     "output_type": "stream",
     "text": [
      "537933\n"
     ]
    }
   ],
   "source": [
    "unique_qs = len(np.unique(qids))\n",
    "print(unique_qs)"
   ]
  },
  {
   "cell_type": "code",
   "execution_count": 27,
   "metadata": {},
   "outputs": [
    {
     "name": "stdout",
     "output_type": "stream",
     "text": [
      "111780\n"
     ]
    }
   ],
   "source": [
    "qs_morethan_onetime = np.sum(qids.value_counts() > 1)\n",
    "print(qs_morethan_onetime)"
   ]
  },
  {
   "cell_type": "code",
   "execution_count": 31,
   "metadata": {},
   "outputs": [
    {
     "name": "stdout",
     "output_type": "stream",
     "text": [
      "Total Number of unique questions are %d  537933\n"
     ]
    }
   ],
   "source": [
    "print(\"Total Number of unique questions are %d \",len(np.unique(qids)))"
   ]
  },
  {
   "cell_type": "code",
   "execution_count": 34,
   "metadata": {},
   "outputs": [
    {
     "name": "stdout",
     "output_type": "stream",
     "text": [
      "Maximum Number of times a questions appers is  157\n"
     ]
    }
   ],
   "source": [
    "print(\"Maximum Number of times a questions appers is \",max(qids.value_counts()))"
   ]
  },
  {
   "cell_type": "code",
   "execution_count": 38,
   "metadata": {},
   "outputs": [
    {
     "data": {
      "image/png": "[encoded data removed]",
      "text/plain": [
       "<Figure size 720x432 with 1 Axes>"
      ]
     },
     "metadata": {},
     "output_type": "display_data"
    }
   ],
   "source": [
    "\n",
    "x = [\"unique_questions\" , \"Repeated Questions\"]\n",
    "y =  [unique_qs , qs_morethan_onetime]\n",
    "\n",
    "\n",
    "plt.figure(figsize=(10, 6))\n",
    "plt.title (\"Plot representing unique and repeated questions  \")\n",
    "sns.barplot(x,y)\n",
    "plt.show()"
   ]
  },
  {
   "cell_type": "code",
   "execution_count": 45,
   "metadata": {},
   "outputs": [],
   "source": [
    "pair_duplicates = df.groupby(['qid1','qid2']).count().reset_index()"
   ]
  },
  {
   "cell_type": "code",
   "execution_count": 46,
   "metadata": {},
   "outputs": [
    {
     "name": "stdout",
     "output_type": "stream",
     "text": [
      "Number of dublicates question pairs is 0\n"
     ]
    }
   ],
   "source": [
    "print(\"Number of dublicates question pairs is\",df.shape[0]-len(pair_duplicates))"
   ]
  },
  {
   "cell_type": "code",
   "execution_count": 48,
   "metadata": {},
   "outputs": [
    {
     "data": {
      "text/html": [
       "<div>\n",
       "<style scoped>\n",
       "    .dataframe tbody tr th:only-of-type {\n",
       "        vertical-align: middle;\n",
       "    }\n",
       "\n",
       "    .dataframe tbody tr th {\n",
       "        vertical-align: top;\n",
       "    }\n",
       "\n",
       "    .dataframe thead th {\n",
       "        text-align: right;\n",
       "    }\n",
       "</style>\n",
       "<table border=\"1\" class=\"dataframe\">\n",
       "  <thead>\n",
       "    <tr style=\"text-align: right;\">\n",
       "      <th></th>\n",
       "      <th>qid1</th>\n",
       "      <th>qid2</th>\n",
       "      <th>id</th>\n",
       "      <th>question1</th>\n",
       "      <th>question2</th>\n",
       "      <th>is_duplicate</th>\n",
       "    </tr>\n",
       "  </thead>\n",
       "  <tbody>\n",
       "    <tr>\n",
       "      <th>0</th>\n",
       "      <td>1</td>\n",
       "      <td>2</td>\n",
       "      <td>1</td>\n",
       "      <td>1</td>\n",
       "      <td>1</td>\n",
       "      <td>1</td>\n",
       "    </tr>\n",
       "    <tr>\n",
       "      <th>1</th>\n",
       "      <td>3</td>\n",
       "      <td>4</td>\n",
       "      <td>1</td>\n",
       "      <td>1</td>\n",
       "      <td>1</td>\n",
       "      <td>1</td>\n",
       "    </tr>\n",
       "    <tr>\n",
       "      <th>2</th>\n",
       "      <td>3</td>\n",
       "      <td>282170</td>\n",
       "      <td>1</td>\n",
       "      <td>1</td>\n",
       "      <td>1</td>\n",
       "      <td>1</td>\n",
       "    </tr>\n",
       "    <tr>\n",
       "      <th>3</th>\n",
       "      <td>3</td>\n",
       "      <td>380197</td>\n",
       "      <td>1</td>\n",
       "      <td>1</td>\n",
       "      <td>1</td>\n",
       "      <td>1</td>\n",
       "    </tr>\n",
       "    <tr>\n",
       "      <th>4</th>\n",
       "      <td>3</td>\n",
       "      <td>488853</td>\n",
       "      <td>1</td>\n",
       "      <td>1</td>\n",
       "      <td>1</td>\n",
       "      <td>1</td>\n",
       "    </tr>\n",
       "  </tbody>\n",
       "</table>\n",
       "</div>"
      ],
      "text/plain": [
       "   qid1    qid2  id  question1  question2  is_duplicate\n",
       "0     1       2   1          1          1             1\n",
       "1     3       4   1          1          1             1\n",
       "2     3  282170   1          1          1             1\n",
       "3     3  380197   1          1          1             1\n",
       "4     3  488853   1          1          1             1"
      ]
     },
     "execution_count": 48,
     "metadata": {},
     "output_type": "execute_result"
    }
   ],
   "source": [
    "pair_duplicates.head()"
   ]
  },
  {
   "cell_type": "code",
   "execution_count": 49,
   "metadata": {},
   "outputs": [
    {
     "name": "stdout",
     "output_type": "stream",
     "text": [
      "Maximum number of times a single question is repeated: 157\n",
      "\n"
     ]
    },
    {
     "data": {
      "image/png": "[encoded data removed]",
      "text/plain": [
       "<Figure size 1440x720 with 1 Axes>"
      ]
     },
     "metadata": {},
     "output_type": "display_data"
    }
   ],
   "source": [
    "# Number of occurences of each question\n",
    "plt.figure(figsize=(20, 10))\n",
    "\n",
    "plt.hist(qids.value_counts(), bins=160)\n",
    "\n",
    "plt.yscale('log', nonposy='clip')\n",
    "\n",
    "plt.title('Log-Histogram of question appearance counts')\n",
    "\n",
    "plt.xlabel('Number of occurences of question')\n",
    "\n",
    "plt.ylabel('Number of questions')\n",
    "\n",
    "print ('Maximum number of times a single question is repeated: {}\\n'.format(max(qids.value_counts()))) "
   ]
  },
  {
   "cell_type": "code",
   "execution_count": 51,
   "metadata": {},
   "outputs": [
    {
     "name": "stdout",
     "output_type": "stream",
     "text": [
      "            id    qid1    qid2                         question1  \\\n",
      "105780  105780  174363  174364    How can I develop android app?   \n",
      "201841  201841  303951  174364  How can I create an Android app?   \n",
      "363362  363362  493340  493341                               NaN   \n",
      "\n",
      "                                                question2  is_duplicate  \n",
      "105780                                                NaN             0  \n",
      "201841                                                NaN             0  \n",
      "363362  My Chinese name is Haichao Yu. What English na...             0  \n"
     ]
    }
   ],
   "source": [
    "nan_rows = df[df.isnull().any(1)]\n",
    "print(nan_rows)"
   ]
  },
  {
   "cell_type": "code",
   "execution_count": 57,
   "metadata": {},
   "outputs": [
    {
     "data": {
      "text/html": [
       "<div>\n",
       "<style scoped>\n",
       "    .dataframe tbody tr th:only-of-type {\n",
       "        vertical-align: middle;\n",
       "    }\n",
       "\n",
       "    .dataframe tbody tr th {\n",
       "        vertical-align: top;\n",
       "    }\n",
       "\n",
       "    .dataframe thead th {\n",
       "        text-align: right;\n",
       "    }\n",
       "</style>\n",
       "<table border=\"1\" class=\"dataframe\">\n",
       "  <thead>\n",
       "    <tr style=\"text-align: right;\">\n",
       "      <th></th>\n",
       "      <th>id</th>\n",
       "      <th>qid1</th>\n",
       "      <th>qid2</th>\n",
       "      <th>question1</th>\n",
       "      <th>question2</th>\n",
       "      <th>is_duplicate</th>\n",
       "    </tr>\n",
       "  </thead>\n",
       "  <tbody>\n",
       "    <tr>\n",
       "      <th>105780</th>\n",
       "      <td>105780</td>\n",
       "      <td>174363</td>\n",
       "      <td>174364</td>\n",
       "      <td>How can I develop android app?</td>\n",
       "      <td>NaN</td>\n",
       "      <td>0</td>\n",
       "    </tr>\n",
       "    <tr>\n",
       "      <th>201841</th>\n",
       "      <td>201841</td>\n",
       "      <td>303951</td>\n",
       "      <td>174364</td>\n",
       "      <td>How can I create an Android app?</td>\n",
       "      <td>NaN</td>\n",
       "      <td>0</td>\n",
       "    </tr>\n",
       "    <tr>\n",
       "      <th>363362</th>\n",
       "      <td>363362</td>\n",
       "      <td>493340</td>\n",
       "      <td>493341</td>\n",
       "      <td>NaN</td>\n",
       "      <td>My Chinese name is Haichao Yu. What English na...</td>\n",
       "      <td>0</td>\n",
       "    </tr>\n",
       "  </tbody>\n",
       "</table>\n",
       "</div>"
      ],
      "text/plain": [
       "            id    qid1    qid2                         question1  \\\n",
       "105780  105780  174363  174364    How can I develop android app?   \n",
       "201841  201841  303951  174364  How can I create an Android app?   \n",
       "363362  363362  493340  493341                               NaN   \n",
       "\n",
       "                                                question2  is_duplicate  \n",
       "105780                                                NaN             0  \n",
       "201841                                                NaN             0  \n",
       "363362  My Chinese name is Haichao Yu. What English na...             0  "
      ]
     },
     "execution_count": 57,
     "metadata": {},
     "output_type": "execute_result"
    }
   ],
   "source": [
    "df[df.isnull().any(1)]"
   ]
  },
  {
   "cell_type": "code",
   "execution_count": 58,
   "metadata": {},
   "outputs": [
    {
     "data": {
      "text/html": [
       "<div>\n",
       "<style scoped>\n",
       "    .dataframe tbody tr th:only-of-type {\n",
       "        vertical-align: middle;\n",
       "    }\n",
       "\n",
       "    .dataframe tbody tr th {\n",
       "        vertical-align: top;\n",
       "    }\n",
       "\n",
       "    .dataframe thead th {\n",
       "        text-align: right;\n",
       "    }\n",
       "</style>\n",
       "<table border=\"1\" class=\"dataframe\">\n",
       "  <thead>\n",
       "    <tr style=\"text-align: right;\">\n",
       "      <th></th>\n",
       "      <th>id</th>\n",
       "      <th>qid1</th>\n",
       "      <th>qid2</th>\n",
       "      <th>question1</th>\n",
       "      <th>question2</th>\n",
       "      <th>is_duplicate</th>\n",
       "      <th>freq_qid1</th>\n",
       "      <th>freq_qid2</th>\n",
       "      <th>q1len</th>\n",
       "      <th>q2len</th>\n",
       "      <th>q1_n_words</th>\n",
       "      <th>q2_n_words</th>\n",
       "      <th>word_Common</th>\n",
       "      <th>word_Total</th>\n",
       "      <th>word_share</th>\n",
       "      <th>freq_q1+q2</th>\n",
       "      <th>freq_q1-q2</th>\n",
       "    </tr>\n",
       "  </thead>\n",
       "  <tbody>\n",
       "    <tr>\n",
       "      <th>0</th>\n",
       "      <td>0</td>\n",
       "      <td>1</td>\n",
       "      <td>2</td>\n",
       "      <td>What is the step by step guide to invest in sh...</td>\n",
       "      <td>What is the step by step guide to invest in sh...</td>\n",
       "      <td>0</td>\n",
       "      <td>1</td>\n",
       "      <td>1</td>\n",
       "      <td>66</td>\n",
       "      <td>57</td>\n",
       "      <td>14</td>\n",
       "      <td>12</td>\n",
       "      <td>10.0</td>\n",
       "      <td>23.0</td>\n",
       "      <td>0.434783</td>\n",
       "      <td>2</td>\n",
       "      <td>0</td>\n",
       "    </tr>\n",
       "    <tr>\n",
       "      <th>1</th>\n",
       "      <td>1</td>\n",
       "      <td>3</td>\n",
       "      <td>4</td>\n",
       "      <td>What is the story of Kohinoor (Koh-i-Noor) Dia...</td>\n",
       "      <td>What would happen if the Indian government sto...</td>\n",
       "      <td>0</td>\n",
       "      <td>4</td>\n",
       "      <td>1</td>\n",
       "      <td>51</td>\n",
       "      <td>88</td>\n",
       "      <td>8</td>\n",
       "      <td>13</td>\n",
       "      <td>4.0</td>\n",
       "      <td>20.0</td>\n",
       "      <td>0.200000</td>\n",
       "      <td>5</td>\n",
       "      <td>3</td>\n",
       "    </tr>\n",
       "    <tr>\n",
       "      <th>2</th>\n",
       "      <td>2</td>\n",
       "      <td>5</td>\n",
       "      <td>6</td>\n",
       "      <td>How can I increase the speed of my internet co...</td>\n",
       "      <td>How can Internet speed be increased by hacking...</td>\n",
       "      <td>0</td>\n",
       "      <td>1</td>\n",
       "      <td>1</td>\n",
       "      <td>73</td>\n",
       "      <td>59</td>\n",
       "      <td>14</td>\n",
       "      <td>10</td>\n",
       "      <td>4.0</td>\n",
       "      <td>24.0</td>\n",
       "      <td>0.166667</td>\n",
       "      <td>2</td>\n",
       "      <td>0</td>\n",
       "    </tr>\n",
       "    <tr>\n",
       "      <th>3</th>\n",
       "      <td>3</td>\n",
       "      <td>7</td>\n",
       "      <td>8</td>\n",
       "      <td>Why am I mentally very lonely? How can I solve...</td>\n",
       "      <td>Find the remainder when [math]23^{24}[/math] i...</td>\n",
       "      <td>0</td>\n",
       "      <td>1</td>\n",
       "      <td>1</td>\n",
       "      <td>50</td>\n",
       "      <td>65</td>\n",
       "      <td>11</td>\n",
       "      <td>9</td>\n",
       "      <td>0.0</td>\n",
       "      <td>19.0</td>\n",
       "      <td>0.000000</td>\n",
       "      <td>2</td>\n",
       "      <td>0</td>\n",
       "    </tr>\n",
       "    <tr>\n",
       "      <th>4</th>\n",
       "      <td>4</td>\n",
       "      <td>9</td>\n",
       "      <td>10</td>\n",
       "      <td>Which one dissolve in water quikly sugar, salt...</td>\n",
       "      <td>Which fish would survive in salt water?</td>\n",
       "      <td>0</td>\n",
       "      <td>3</td>\n",
       "      <td>1</td>\n",
       "      <td>76</td>\n",
       "      <td>39</td>\n",
       "      <td>13</td>\n",
       "      <td>7</td>\n",
       "      <td>2.0</td>\n",
       "      <td>20.0</td>\n",
       "      <td>0.100000</td>\n",
       "      <td>4</td>\n",
       "      <td>2</td>\n",
       "    </tr>\n",
       "  </tbody>\n",
       "</table>\n",
       "</div>"
      ],
      "text/plain": [
       "   id  qid1  qid2                                          question1  \\\n",
       "0   0     1     2  What is the step by step guide to invest in sh...   \n",
       "1   1     3     4  What is the story of Kohinoor (Koh-i-Noor) Dia...   \n",
       "2   2     5     6  How can I increase the speed of my internet co...   \n",
       "3   3     7     8  Why am I mentally very lonely? How can I solve...   \n",
       "4   4     9    10  Which one dissolve in water quikly sugar, salt...   \n",
       "\n",
       "                                           question2  is_duplicate  freq_qid1  \\\n",
       "0  What is the step by step guide to invest in sh...             0          1   \n",
       "1  What would happen if the Indian government sto...             0          4   \n",
       "2  How can Internet speed be increased by hacking...             0          1   \n",
       "3  Find the remainder when [math]23^{24}[/math] i...             0          1   \n",
       "4            Which fish would survive in salt water?             0          3   \n",
       "\n",
       "   freq_qid2  q1len  q2len  q1_n_words  q2_n_words  word_Common  word_Total  \\\n",
       "0          1     66     57          14          12         10.0        23.0   \n",
       "1          1     51     88           8          13          4.0        20.0   \n",
       "2          1     73     59          14          10          4.0        24.0   \n",
       "3          1     50     65          11           9          0.0        19.0   \n",
       "4          1     76     39          13           7          2.0        20.0   \n",
       "\n",
       "   word_share  freq_q1+q2  freq_q1-q2  \n",
       "0    0.434783           2           0  \n",
       "1    0.200000           5           3  \n",
       "2    0.166667           2           0  \n",
       "3    0.000000           2           0  \n",
       "4    0.100000           4           2  "
      ]
     },
     "execution_count": 58,
     "metadata": {},
     "output_type": "execute_result"
    }
   ],
   "source": [
    "\"\"\"\n",
    "Feature Extraction before cleaning ==>>\n",
    "\n",
    "Let's now construct a few features like:\n",
    "\n",
    "freq_qid1 = Frequency of qid1's\n",
    "freq_qid2 = Frequency of qid2's\n",
    "q1len = Length of q1\n",
    "q2len = Length of q2\n",
    "q1_n_words = Number of words in Question 1\n",
    "q2_n_words = Number of words in Question 2\n",
    "word_Common = (Number of common unique words in Question 1 and Question 2)\n",
    "word_Total =(Total num of words in Question 1 + Total num of words in Question 2)\n",
    "word_share = (word_common)/(word_Total)\n",
    "freq_q1+freq_q2 = sum total of frequency of qid1 and qid2\n",
    "freq_q1-freq_q2 = absolute difference of frequency of qid1 and qid2\n",
    "\"\"\"\n",
    "\n",
    "\n",
    "if os.path.isfile('df_fe_without_preprocessing_train.csv'):\n",
    "    df = pd.read_csv(\"df_fe_without_preprocessing_train.csv\",encoding='latin-1')\n",
    "else:\n",
    "    df['freq_qid1'] = df.groupby('qid1')['qid1'].transform('count') \n",
    "    df['freq_qid2'] = df.groupby('qid2')['qid2'].transform('count')\n",
    "    df['q1len'] = df['question1'].str.len() \n",
    "    df['q2len'] = df['question2'].str.len()\n",
    "    df['q1_n_words'] = df['question1'].apply(lambda row: len(row.split(\" \")))\n",
    "    df['q2_n_words'] = df['question2'].apply(lambda row: len(row.split(\" \")))\n",
    "\n",
    "    def normalized_word_Common(row):\n",
    "        w1 = set(map(lambda word: word.lower().strip(), row['question1'].split(\" \")))\n",
    "        w2 = set(map(lambda word: word.lower().strip(), row['question2'].split(\" \")))    \n",
    "        return 1.0 * len(w1 & w2)\n",
    "    df['word_Common'] = df.apply(normalized_word_Common, axis=1)\n",
    "\n",
    "    def normalized_word_Total(row):\n",
    "        w1 = set(map(lambda word: word.lower().strip(), row['question1'].split(\" \")))\n",
    "        w2 = set(map(lambda word: word.lower().strip(), row['question2'].split(\" \")))    \n",
    "        return 1.0 * (len(w1) + len(w2))\n",
    "    df['word_Total'] = df.apply(normalized_word_Total, axis=1)\n",
    "\n",
    "    def normalized_word_share(row):\n",
    "        w1 = set(map(lambda word: word.lower().strip(), row['question1'].split(\" \")))\n",
    "        w2 = set(map(lambda word: word.lower().strip(), row['question2'].split(\" \")))    \n",
    "        return 1.0 * len(w1 & w2)/(len(w1) + len(w2))\n",
    "    df['word_share'] = df.apply(normalized_word_share, axis=1)\n",
    "\n",
    "    df['freq_q1+q2'] = df['freq_qid1']+df['freq_qid2']\n",
    "    df['freq_q1-q2'] = abs(df['freq_qid1']-df['freq_qid2'])\n",
    "\n",
    "    df.to_csv(\"df_fe_without_preprocessing_train.csv\", index=False)\n",
    "\n",
    "df.head()"
   ]
  },
  {
   "cell_type": "code",
   "execution_count": 59,
   "metadata": {},
   "outputs": [
    {
     "data": {
      "text/plain": [
       "(404290, 17)"
      ]
     },
     "execution_count": 59,
     "metadata": {},
     "output_type": "execute_result"
    }
   ],
   "source": [
    "df.shape"
   ]
  },
  {
   "cell_type": "code",
   "execution_count": 60,
   "metadata": {},
   "outputs": [
    {
     "name": "stdout",
     "output_type": "stream",
     "text": [
      "<class 'pandas.core.frame.DataFrame'>\n",
      "RangeIndex: 404290 entries, 0 to 404289\n",
      "Data columns (total 17 columns):\n",
      "id              404290 non-null int64\n",
      "qid1            404290 non-null int64\n",
      "qid2            404290 non-null int64\n",
      "question1       404289 non-null object\n",
      "question2       404288 non-null object\n",
      "is_duplicate    404290 non-null int64\n",
      "freq_qid1       404290 non-null int64\n",
      "freq_qid2       404290 non-null int64\n",
      "q1len           404290 non-null int64\n",
      "q2len           404290 non-null int64\n",
      "q1_n_words      404290 non-null int64\n",
      "q2_n_words      404290 non-null int64\n",
      "word_Common     404290 non-null float64\n",
      "word_Total      404290 non-null float64\n",
      "word_share      404290 non-null float64\n",
      "freq_q1+q2      404290 non-null int64\n",
      "freq_q1-q2      404290 non-null int64\n",
      "dtypes: float64(3), int64(12), object(2)\n",
      "memory usage: 52.4+ MB\n"
     ]
    }
   ],
   "source": [
    "df.info()"
   ]
  },
  {
   "cell_type": "code",
   "execution_count": 64,
   "metadata": {},
   "outputs": [
    {
     "data": {
      "text/plain": [
       "404290"
      ]
     },
     "execution_count": 64,
     "metadata": {},
     "output_type": "execute_result"
    }
   ],
   "source": [
    "df['id'].count()"
   ]
  },
  {
   "cell_type": "code",
   "execution_count": 65,
   "metadata": {},
   "outputs": [
    {
     "name": "stdout",
     "output_type": "stream",
     "text": [
      "Minimum length of the questions in question1 :  1\n",
      "Minimum length of the questions in question2 :  1\n"
     ]
    }
   ],
   "source": [
    "print (\"Minimum length of the questions in question1 : \" , min(df['q1_n_words']))\n",
    "\n",
    "print (\"Minimum length of the questions in question2 : \" , min(df['q2_n_words']))"
   ]
  },
  {
   "cell_type": "code",
   "execution_count": 66,
   "metadata": {},
   "outputs": [
    {
     "name": "stdout",
     "output_type": "stream",
     "text": [
      "Number of Questions with minimum length [question1] : 67\n",
      "Number of Questions with minimum length [question2] : 24\n"
     ]
    }
   ],
   "source": [
    "print (\"Number of Questions with minimum length [question1] :\", df[df['q1_n_words']== 1].shape[0])\n",
    "print (\"Number of Questions with minimum length [question2] :\", df[df['q2_n_words']== 1].shape[0])"
   ]
  },
  {
   "cell_type": "code",
   "execution_count": 67,
   "metadata": {},
   "outputs": [
    {
     "name": "stdout",
     "output_type": "stream",
     "text": [
      "            id    qid1    qid2  question1  \\\n",
      "3306      3306    6553    6554          .   \n",
      "13016    13016   25026   25027          ?   \n",
      "17682    17682   33561   33562    deleted   \n",
      "20794    20794   39204   39205          ?   \n",
      "23305    23305   33561   43661    deleted   \n",
      "23884    23884   44699   44700         HH   \n",
      "25228    25228   47035   47036      What?   \n",
      "25315    25315   47198   29712    deleted   \n",
      "39769    39769   33561   72063    deleted   \n",
      "44619    44619   80055   80056         Na   \n",
      "57484    57484  101005  101006    grammar   \n",
      "63712    63712   83329  110823      What?   \n",
      "86457    86457  145814   81121        Is?   \n",
      "87861    87861  147899  147900   Deleted.   \n",
      "96725    96725  161071  161072          ?   \n",
      "104101  104101  171925  171926          ?   \n",
      "106577  106577   47035  175527      What?   \n",
      "108978  108978  178936  178937          i   \n",
      "109311  109311  179423  179424       What   \n",
      "115347  115347  188110   52215          o   \n",
      "134403  134403  214814  214815          ?   \n",
      "139219  139219   33561   40405    deleted   \n",
      "141281  141281  147899  224327   Deleted.   \n",
      "151922  151922  188110  238787          o   \n",
      "158778  158778  247989   48850          A   \n",
      "164553  164553  255663  255664       Nana   \n",
      "169290  169290  262028  262029        111   \n",
      "180461  180461  276676  153211       spam   \n",
      "182943  182943  279869  279870  [removed]   \n",
      "189396  189396  288142  288143      Which   \n",
      "...        ...     ...     ...        ...   \n",
      "213220  213220   25026   64784          ?   \n",
      "216861  216861  323090   17986       Aaas   \n",
      "231151  231151  340885  340886   Marriage   \n",
      "231879  231879   33561  341779    deleted   \n",
      "245880  245880  358814  358815        sss   \n",
      "248125  248125  341088  341919    deleted   \n",
      "254161  254161  214814  368834          ?   \n",
      "257077  257077  372328  139258         hi   \n",
      "260779  260779  376791  376792       Why?   \n",
      "263134  263134  379636   29712     delete   \n",
      "270146  270146  387976  387977         Ok   \n",
      "273065  273065  391451  380455          ?   \n",
      "297461  297461  419830  419831      civil   \n",
      "301583  301583  424494  424495        ",
      "..   \n",
      "312498  312498   83329  436949      What?   \n",
      "322705  322705  448565  366254   Cloning?   \n",
      "324777  324777  450926   45314       Why?   \n",
      "325200  325200  451410  270139      Error   \n",
      "325530  325530  451788  451789         My   \n",
      "326297  326297  452592    9811        How   \n",
      "327206  327206  453611  453612      Life:   \n",
      "328601  328601  451788  455166         My   \n",
      "348571  348571  147899  477143   Deleted.   \n",
      "351788  351788  480660  480661         Q?   \n",
      "356434  356434  147899  485756   Deleted.   \n",
      "357127  357127  486520  146954          H   \n",
      "363362  363362  493340  493341        NaN   \n",
      "365317  365317   33561  365465    deleted   \n",
      "381124  381124  512812  512813         no   \n",
      "402423  402423  535899  119568          ?   \n",
      "\n",
      "                                                question2  is_duplicate  \\\n",
      "3306    Why is Cornell's endowment the lowest in the I...             0   \n",
      "13016                  Why should one not work at Google?             0   \n",
      "17682   Which website will be suitable for downloading...             0   \n",
      "20794   What is the Gmail tech support help phone number?             0   \n",
      "23305   Which are some best websites for downloading n...             0   \n",
      "23884                                         What is hh?             0   \n",
      "25228   What should Indians do if Donald Trump becomes...             0   \n",
      "25315   What kind of questions on Quora aren't OK? Wha...             0   \n",
      "39769   What is a website where I can download eBooks ...             0   \n",
      "44619                  How do I activate Reliance Jio 4G?             0   \n",
      "57484                                    What is grammar?             0   \n",
      "63712   What is the average processing time for a spou...             0   \n",
      "86457             Does mother/son incest happen in India?             0   \n",
      "87861   How do I send notification from server to Andr...             0   \n",
      "96725                     Who are Moses, Noah and Exodus?             0   \n",
      "104101  Problem of solving a problem is not a problem,...             0   \n",
      "106577  What should a young person do after his office...             0   \n",
      "108978                What questions to ask any drdummer?             0   \n",
      "109311  What are the options for getting fee concessio...             0   \n",
      "115347    Where can I watch free streaming movies online?             0   \n",
      "134403  What is your take on the undercover report tha...             0   \n",
      "139219  Where can I get online PDF or EPUB versions of...             0   \n",
      "141281                                              null              0   \n",
      "151922  What is this - This website/URL has been bloc...             0   \n",
      "158778  Do men forgive their wives when they cheat on ...             0   \n",
      "164553  If my ex-girfriend of 2 years tries to come ba...             0   \n",
      "169290  I'm looking for the book Intelligent Investor ...             0   \n",
      "180461                       Why was spam is called spam?             0   \n",
      "182943                   Is playing video games immature?             0   \n",
      "189396  Which Fake GPS with Joystick app will work for...             0   \n",
      "...                                                   ...           ...   \n",
      "213220                 What is it like to work at Google?             0   \n",
      "216861  My dad always yells at me and causes me anxiet...             0   \n",
      "231151  \"Marriage is an institution.\" What does this m...             0   \n",
      "231879  What are the best websites to download ebooks ...             0   \n",
      "245880                                       What is sss?             0   \n",
      "248125        How can I download flash season 2 episodes?             0   \n",
      "254161  How do I convince my non-Indian friends that n...             0   \n",
      "257077  What should I do to get my ex-girlfriend back ...             0   \n",
      "260779                         Why can't mules reproduce?             0   \n",
      "263134  What kind of questions on Quora aren't OK? Wha...             0   \n",
      "270146             What would you do if you were wealthy?             0   \n",
      "273065  How can I describe Quora, in all its glory, to...             0   \n",
      "297461                 What is best DSLR? Canon or Nikon?             0   \n",
      "301583                        What do I do with this guy?             0   \n",
      "312498  What is life like at MAMC? How are the hostel ...             0   \n",
      "322705                          To clone or not to clone?             0   \n",
      "324777    Why are answers and reviews on Quora collapsed?             0   \n",
      "325200     Will there be an error in measuring the error?             0   \n",
      "325530  My boyfriend told me he was not as attracted t...             0   \n",
      "326297  What are some of the best ways to learn progra...             0   \n",
      "327206                              What is life of life?             0   \n",
      "328601  My father has many new technologies with him (...             0   \n",
      "348571  Should I be happy for her? Or does this make h...             0   \n",
      "351788  I have some secrets..what if I smoke marijuana...             0   \n",
      "356434  Do gay men find red headed men more attractive...             0   \n",
      "357127                      Should I forgive the cheater?             0   \n",
      "363362  My Chinese name is Haichao Yu. What English na...             0   \n",
      "365317         From which site I can download GTA 4 game?             0   \n",
      "381124  I have a BS and MPH and hate my job. I found t...             0   \n",
      "402423  What is cisco router technical support phone n...             0   \n",
      "\n",
      "        freq_qid1  freq_qid2  q1len  q2len  q1_n_words  q2_n_words  \\\n",
      "3306            1          1      1     56           1          10   \n",
      "13016           2          2      1     34           1           7   \n",
      "17682           7          1      7     67           1          10   \n",
      "20794           1          1      1     49           1           9   \n",
      "23305           7          1      7     74           1          10   \n",
      "23884           1          1      2     11           1           3   \n",
      "25228           2          1      5     57           1           9   \n",
      "25315           1         14      7     87           1          15   \n",
      "39769           7          1      7     54           1          10   \n",
      "44619           1          3      2     34           1           7   \n",
      "57484           1          1      7     16           1           3   \n",
      "63712           2          1      5     84           1          14   \n",
      "86457           1          2      3     39           1           6   \n",
      "87861           5          1      8     68           1          12   \n",
      "96725           2          1      1     31           1           6   \n",
      "104101          1          1      1    149           1          29   \n",
      "106577          2          1      5     53           1          10   \n",
      "108978          1          1      1     35           1           6   \n",
      "109311          1          1      4    113           1          18   \n",
      "115347          2          9      1     47           1           8   \n",
      "134403          2          2      1    144           1          25   \n",
      "139219          7         19      7     53           1          11   \n",
      "141281          5          1      8      5           1           2   \n",
      "151922          2          1      1    132           1          20   \n",
      "158778          1          2      1     51           1          10   \n",
      "164553          1          1      4    179           1          36   \n",
      "169290          1          1      3    115           1          23   \n",
      "180461          1          2      4     28           1           6   \n",
      "182943          1          2      9     32           1           5   \n",
      "189396          1          1      5     84           1          15   \n",
      "...           ...        ...    ...    ...         ...         ...   \n",
      "213220          2          7      1     34           1           8   \n",
      "216861          1          3      4     67           1          15   \n",
      "231151          1          1      8     50           1           8   \n",
      "231879          7          1      7     51           1           9   \n",
      "245880          1          1      3     12           1           3   \n",
      "248125          1          3      7     43           1           8   \n",
      "254161          2          1      1    140           1          26   \n",
      "257077          1          3      2     86           1          19   \n",
      "260779          1          1      4     26           1           4   \n",
      "263134          1         14      6     87           1          15   \n",
      "270146          1          1      2     38           1           8   \n",
      "273065          1          1      1     55           1          11   \n",
      "297461          1          1      5     34           1           7   \n",
      "301583          1          1      3     27           1           7   \n",
      "312498          2          1      5     73           1          14   \n",
      "322705          1          1      8     25           1           6   \n",
      "324777          1         14      4     47           1           8   \n",
      "325200          1          2      5     46           1           9   \n",
      "325530          2          2      2    172           1          37   \n",
      "326297          1         36      3     52           1          10   \n",
      "327206          1          1      5     21           1           5   \n",
      "328601          2          1      2    122           1          22   \n",
      "348571          5          1      8     62           1          14   \n",
      "351788          1          1      2    148           1          28   \n",
      "356434          5          1      8     78           1          15   \n",
      "357127          1          3      1     29           1           5   \n",
      "363362          1          1      3    123           1          21   \n",
      "365317          7          4      7     42           1           9   \n",
      "381124          1          1      2    122           1          27   \n",
      "402423          1          5      1     52           1           8   \n",
      "\n",
      "        word_Common  word_Total  word_share  freq_q1+q2  freq_q1-q2  \n",
      "3306            0.0        10.0    0.000000           2           0  \n",
      "13016           0.0         8.0    0.000000           4           0  \n",
      "17682           0.0        11.0    0.000000           8           6  \n",
      "20794           0.0        10.0    0.000000           2           0  \n",
      "23305           0.0        11.0    0.000000           8           6  \n",
      "23884           0.0         4.0    0.000000           2           0  \n",
      "25228           0.0        10.0    0.000000           3           1  \n",
      "25315           0.0        14.0    0.000000          15          13  \n",
      "39769           0.0        11.0    0.000000           8           6  \n",
      "44619           0.0         8.0    0.000000           4           2  \n",
      "57484           0.0         4.0    0.000000           2           0  \n",
      "63712           0.0        15.0    0.000000           3           1  \n",
      "86457           0.0         7.0    0.000000           3           1  \n",
      "87861           0.0        13.0    0.000000           6           4  \n",
      "96725           0.0         7.0    0.000000           3           1  \n",
      "104101          0.0        18.0    0.000000           2           0  \n",
      "106577          0.0        11.0    0.000000           3           1  \n",
      "108978          0.0         7.0    0.000000           2           0  \n",
      "109311          1.0        18.0    0.055556           2           0  \n",
      "115347          0.0         9.0    0.000000          11           7  \n",
      "134403          0.0        24.0    0.000000           4           0  \n",
      "139219          0.0        12.0    0.000000          26          12  \n",
      "141281          0.0         3.0    0.000000           6           4  \n",
      "151922          0.0        20.0    0.000000           3           1  \n",
      "158778          0.0        11.0    0.000000           3           1  \n",
      "164553          0.0        34.0    0.000000           2           0  \n",
      "169290          0.0        23.0    0.000000           2           0  \n",
      "180461          1.0         7.0    0.142857           3           1  \n",
      "182943          0.0         6.0    0.000000           3           1  \n",
      "189396          1.0        16.0    0.062500           2           0  \n",
      "...             ...         ...         ...         ...         ...  \n",
      "213220          0.0         9.0    0.000000           9           5  \n",
      "216861          0.0        15.0    0.000000           4           2  \n",
      "231151          0.0         9.0    0.000000           2           0  \n",
      "231879          0.0        10.0    0.000000           8           6  \n",
      "245880          0.0         4.0    0.000000           2           0  \n",
      "248125          0.0         9.0    0.000000           4           2  \n",
      "254161          0.0        25.0    0.000000           3           1  \n",
      "257077          0.0        18.0    0.000000           4           2  \n",
      "260779          0.0         5.0    0.000000           2           0  \n",
      "263134          0.0        14.0    0.000000          15          13  \n",
      "270146          0.0         8.0    0.000000           2           0  \n",
      "273065          0.0        12.0    0.000000           2           0  \n",
      "297461          0.0         8.0    0.000000           2           0  \n",
      "301583          0.0         7.0    0.000000           2           0  \n",
      "312498          0.0        14.0    0.000000           3           1  \n",
      "322705          0.0         6.0    0.000000           2           0  \n",
      "324777          0.0         9.0    0.000000          15          13  \n",
      "325200          1.0        10.0    0.100000           3           1  \n",
      "325530          1.0        31.0    0.032258           4           0  \n",
      "326297          0.0        11.0    0.000000          37          35  \n",
      "327206          0.0         6.0    0.000000           2           0  \n",
      "328601          1.0        21.0    0.047619           3           1  \n",
      "348571          0.0        15.0    0.000000           6           4  \n",
      "351788          0.0        24.0    0.000000           2           0  \n",
      "356434          0.0        12.0    0.000000           6           4  \n",
      "357127          0.0         6.0    0.000000           4           2  \n",
      "363362          0.0        18.0    0.000000           2           0  \n",
      "365317          0.0        10.0    0.000000          11           3  \n",
      "381124          0.0        25.0    0.000000           2           0  \n",
      "402423          0.0         9.0    0.000000           6           4  \n",
      "\n",
      "[67 rows x 17 columns]\n"
     ]
    }
   ],
   "source": [
    "### So, there are total 67 questions in question_1 an 24 in the other whose length is 1.\n",
    "### And they are --->\n",
    "print(df[df['q1_n_words']==1])"
   ]
  },
  {
   "cell_type": "code",
   "execution_count": 68,
   "metadata": {},
   "outputs": [
    {
     "name": "stderr",
     "output_type": "stream",
     "text": [
      "C:\\Users\\acer\\Anaconda3\\lib\\site-packages\\scipy\\stats\\stats.py:1713: FutureWarning:\n",
      "\n",
      "Using a non-tuple sequence for multidimensional indexing is deprecated; use `arr[tuple(seq)]` instead of `arr[seq]`. In the future this will be interpreted as an array index, `arr[np.array(seq)]`, which will result either in an error or a different result.\n",
      "\n"
     ]
    },
    {
     "data": {
      "image/png": "[encoded data removed]",
      "text/plain": [
       "<Figure size 864x576 with 2 Axes>"
      ]
     },
     "metadata": {},
     "output_type": "display_data"
    }
   ],
   "source": [
    "### Word_common Feature Analysis\n",
    "plt.figure(figsize=(12, 8))\n",
    "\n",
    "plt.subplot(1,2,1)\n",
    "sns.violinplot(x = 'is_duplicate', y = 'word_Common', data = df[0:])\n",
    "\n",
    "plt.subplot(1,2,2)\n",
    "sns.distplot(df[df['is_duplicate'] == 1.0]['word_Common'][0:] , label = \"1\", color = 'red')\n",
    "sns.distplot(df[df['is_duplicate'] == 0.0]['word_Common'][0:] , label = \"0\" , color = 'blue' )\n",
    "plt.show()"
   ]
  },
  {
   "cell_type": "code",
   "execution_count": 69,
   "metadata": {},
   "outputs": [],
   "source": [
    "### So, we can see word_common feature on similar and non-similar words are much overlapping.\n",
    "###\n",
    "###\n",
    "###"
   ]
  },
  {
   "cell_type": "code",
   "execution_count": null,
   "metadata": {},
   "outputs": [],
   "source": []
  }
 ],
 "metadata": {
  "kernelspec": {
   "display_name": "Python 3",
   "language": "python",
   "name": "python3"
  },
  "language_info": {
   "codemirror_mode": {
    "name": "ipython",
    "version": 3
   },
   "file_extension": ".py",
   "mimetype": "text/x-python",
   "name": "python",
   "nbconvert_exporter": "python",
   "pygments_lexer": "ipython3",
   "version": "3.7.0"
  }
 },
 "nbformat": 4,
 "nbformat_minor": 2
}
